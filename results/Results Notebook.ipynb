{
 "cells": [
  {
   "cell_type": "markdown",
   "metadata": {},
   "source": [
    "# Predicting Salary and MVP Voting in the NBA\n",
    "\n",
    "## Background\n",
    "\n",
    "The model was produced from a linear neural network trained on data from 1984-17. For the MVP model the data used was the player's regular season per and advanced stats, the stats of their best teammates and their team's regular season stats and perfomance. For the salary model the same data was used with the addition of playoff data and some data from the player's past three seasons.\n",
    "\n",
    "## Evaluating the Model's Perfomance\n",
    "\n",
    "As the model was trained on data from 1984 - 17 it's validity can be evaluated by its perfomance from data from the 2017-18 and 2018-19 seasons.\n",
    "\n",
    "The following is a plot of player salary against the salary the model predicted for the two seasons."
   ]
  },
  {
   "cell_type": "code",
   "execution_count": null,
   "metadata": {},
   "outputs": [],
   "source": [
    "%matplotlib widget\n",
    "from plots import *\n",
    "plot_salary()"
   ]
  },
  {
   "cell_type": "markdown",
   "metadata": {},
   "source": [
    "In general the actual and predicted salary correlate well. Large outliers such as Hayward, Cousins, Thomas and Parsons are all players who suffered career altering injuries, this suggests the model could have benefitted from additionial injury data or total stat data instead of per game to give the model an idea of how many games the player played in the season (although this may increase error due to lockout seasons).\n",
    "\n",
    "The following are bar charts displaying the predicted MVP voting vs actual MVP voting for the 2017-18 and 2018-19 seasons"
   ]
  },
  {
   "cell_type": "code",
   "execution_count": null,
   "metadata": {},
   "outputs": [],
   "source": [
    "plot_mvp_eval(2018)"
   ]
  },
  {
   "cell_type": "code",
   "execution_count": null,
   "metadata": {},
   "outputs": [],
   "source": [
    "plot_mvp_eval(2019)"
   ]
  },
  {
   "cell_type": "markdown",
   "metadata": {},
   "source": [
    "The model also works well here, extremely accurately predicting the order of MVP voting. The two notable errors are Harden being predicted as the 2019 MVP and George not making the top 10 in 2019. While Harden being awarded MVP is seen as feasible, the oversight of George's season shows the model is not entirely accurate"
   ]
  },
  {
   "cell_type": "markdown",
   "metadata": {},
   "source": [
    "## Predicting this Season's MVP\n",
    "\n",
    "Due to the lack of playoff data the model cannot be used to predict this season's player's salary, however using data up until the season's postponement the model can predict the season's MVP so far. (Not much consideration should be given to the numerical share figure as it is affected by the games played)"
   ]
  },
  {
   "cell_type": "code",
   "execution_count": null,
   "metadata": {},
   "outputs": [],
   "source": [
    "plot_2020()"
   ]
  },
  {
   "cell_type": "markdown",
   "metadata": {},
   "source": [
    "These predictions align well with the <a href=\"https://www.nba.com/article/2020/03/06/kia-mvp-ladder-march-6-edition?collection=mvp-ladder\">NBA's most recent MVP ladder</a> with Giannis looking like the comfortable favourite and James and Doncic trailing"
   ]
  },
  {
   "cell_type": "markdown",
   "metadata": {},
   "source": [
    "## Model Uses\n",
    "\n",
    "While this model can be used to predict future salaries and MVP races given data since it was trained using validation data to prevent overfitting it can also be used to find the expected value of player salaries and MVP share on past data. The following are charts showing the model's predicted/expected salaries and MVP shares on past seasons.\n",
    "\n",
    "This bar chart shows the predicted vs. actual MVP voting"
   ]
  },
  {
   "cell_type": "code",
   "execution_count": null,
   "metadata": {},
   "outputs": [],
   "source": [
    "plot_mvp()"
   ]
  },
  {
   "cell_type": "markdown",
   "metadata": {},
   "source": [
    "This plot shows actual vs. predicted mvp share across all recorded seasons"
   ]
  },
  {
   "cell_type": "code",
   "execution_count": null,
   "metadata": {},
   "outputs": [],
   "source": [
    "plot_all_mvp()"
   ]
  },
  {
   "cell_type": "markdown",
   "metadata": {},
   "source": [
    "This bar chart predicted vs. actual top 10 salaries in a given year"
   ]
  },
  {
   "cell_type": "code",
   "execution_count": null,
   "metadata": {},
   "outputs": [],
   "source": [
    "plot_year_salary()"
   ]
  },
  {
   "cell_type": "markdown",
   "metadata": {},
   "source": [
    "This bar chart shows the top 10 predicted most over and underpaid players in a given year"
   ]
  },
  {
   "cell_type": "code",
   "execution_count": null,
   "metadata": {},
   "outputs": [],
   "source": [
    "plot_over_under_paid()"
   ]
  },
  {
   "cell_type": "markdown",
   "metadata": {},
   "source": [
    "This plot shows actual vs. predicted player salaries over all recorded seasons in terms of percentage of the salary cap (due to the extreme values of some of Ewing and Jordan's actual salaries they are not displayed on the plot's initial view however can be seen by panning)"
   ]
  },
  {
   "cell_type": "code",
   "execution_count": null,
   "metadata": {},
   "outputs": [],
   "source": [
    "plot_all_salary()"
   ]
  },
  {
   "cell_type": "markdown",
   "metadata": {},
   "source": [
    "This plot shows actual vs. predicted MVP share across a given player's career"
   ]
  },
  {
   "cell_type": "code",
   "execution_count": null,
   "metadata": {},
   "outputs": [],
   "source": [
    "plot_player_mvp()"
   ]
  },
  {
   "cell_type": "markdown",
   "metadata": {},
   "source": [
    "This plot shows actual vs predicted salary across a given player's career"
   ]
  },
  {
   "cell_type": "code",
   "execution_count": null,
   "metadata": {},
   "outputs": [],
   "source": [
    "plot_player_salary()"
   ]
  }
 ],
 "metadata": {
  "kernelspec": {
   "display_name": "Python 3",
   "language": "python",
   "name": "python3"
  },
  "language_info": {
   "codemirror_mode": {
    "name": "ipython",
    "version": 3
   },
   "file_extension": ".py",
   "mimetype": "text/x-python",
   "name": "python",
   "nbconvert_exporter": "python",
   "pygments_lexer": "ipython3",
   "version": "3.7.3"
  }
 },
 "nbformat": 4,
 "nbformat_minor": 2
}
